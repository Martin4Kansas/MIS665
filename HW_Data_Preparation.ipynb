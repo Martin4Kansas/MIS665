{
 "cells": [
  {
   "cell_type": "markdown",
   "metadata": {},
   "source": [
    "## Honor Code\n",
    "**Jordan Martin \"On my honor, as a student, I have neither given nor received unauthorized aid on this academic work.\"**"
   ]
  },
  {
   "cell_type": "code",
   "execution_count": 1,
   "metadata": {},
   "outputs": [],
   "source": [
    "# Importing packages\n",
    "import pandas as pd\n",
    "import numpy as np\n",
    "import seaborn as sns\n",
    "import matplotlib as plt\n",
    "import math as m\n",
    "%matplotlib inline"
   ]
  },
  {
   "cell_type": "markdown",
   "metadata": {},
   "source": [
    "## 1.a.\tImport samplemissing.csv and show top five rows"
   ]
  },
  {
   "cell_type": "code",
   "execution_count": 2,
   "metadata": {},
   "outputs": [
    {
     "data": {
      "text/html": [
       "<div>\n",
       "<style scoped>\n",
       "    .dataframe tbody tr th:only-of-type {\n",
       "        vertical-align: middle;\n",
       "    }\n",
       "\n",
       "    .dataframe tbody tr th {\n",
       "        vertical-align: top;\n",
       "    }\n",
       "\n",
       "    .dataframe thead th {\n",
       "        text-align: right;\n",
       "    }\n",
       "</style>\n",
       "<table border=\"1\" class=\"dataframe\">\n",
       "  <thead>\n",
       "    <tr style=\"text-align: right;\">\n",
       "      <th></th>\n",
       "      <th>ID</th>\n",
       "      <th>AGE</th>\n",
       "      <th>SEX</th>\n",
       "      <th>REGION</th>\n",
       "      <th>INCOME</th>\n",
       "      <th>MARRIED</th>\n",
       "      <th>CHILDREN</th>\n",
       "      <th>CAR</th>\n",
       "    </tr>\n",
       "  </thead>\n",
       "  <tbody>\n",
       "    <tr>\n",
       "      <th>0</th>\n",
       "      <td>ID12701</td>\n",
       "      <td>23</td>\n",
       "      <td>MALE</td>\n",
       "      <td>INNER_CITY</td>\n",
       "      <td>18766.0</td>\n",
       "      <td>YES</td>\n",
       "      <td>1</td>\n",
       "      <td>YES</td>\n",
       "    </tr>\n",
       "    <tr>\n",
       "      <th>1</th>\n",
       "      <td>ID12702</td>\n",
       "      <td>30</td>\n",
       "      <td>NaN</td>\n",
       "      <td>RURAL</td>\n",
       "      <td>9915.0</td>\n",
       "      <td>NO</td>\n",
       "      <td>2</td>\n",
       "      <td>NO</td>\n",
       "    </tr>\n",
       "    <tr>\n",
       "      <th>2</th>\n",
       "      <td>ID12703</td>\n",
       "      <td>45</td>\n",
       "      <td>MALE</td>\n",
       "      <td>RURAL</td>\n",
       "      <td>21881.0</td>\n",
       "      <td>NO</td>\n",
       "      <td>0</td>\n",
       "      <td>YES</td>\n",
       "    </tr>\n",
       "    <tr>\n",
       "      <th>3</th>\n",
       "      <td>ID12704</td>\n",
       "      <td>50</td>\n",
       "      <td>MALE</td>\n",
       "      <td>TOWN</td>\n",
       "      <td>NaN</td>\n",
       "      <td>YES</td>\n",
       "      <td>2</td>\n",
       "      <td>NO</td>\n",
       "    </tr>\n",
       "    <tr>\n",
       "      <th>4</th>\n",
       "      <td>ID12705</td>\n",
       "      <td>41</td>\n",
       "      <td>FEMALE</td>\n",
       "      <td>INNER_CITY</td>\n",
       "      <td>80000.0</td>\n",
       "      <td>YES</td>\n",
       "      <td>0</td>\n",
       "      <td>NO</td>\n",
       "    </tr>\n",
       "  </tbody>\n",
       "</table>\n",
       "</div>"
      ],
      "text/plain": [
       "        ID  AGE     SEX      REGION   INCOME MARRIED  CHILDREN  CAR\n",
       "0  ID12701   23    MALE  INNER_CITY  18766.0     YES         1  YES\n",
       "1  ID12702   30     NaN       RURAL   9915.0      NO         2   NO\n",
       "2  ID12703   45    MALE       RURAL  21881.0      NO         0  YES\n",
       "3  ID12704   50    MALE        TOWN      NaN     YES         2   NO\n",
       "4  ID12705   41  FEMALE  INNER_CITY  80000.0     YES         0   NO"
      ]
     },
     "execution_count": 2,
     "metadata": {},
     "output_type": "execute_result"
    }
   ],
   "source": [
    "df=pd.read_csv(\"samplemissing.csv\")\n",
    "df.head()"
   ]
  },
  {
   "cell_type": "code",
   "execution_count": 3,
   "metadata": {},
   "outputs": [
    {
     "data": {
      "text/plain": [
       "ID           object\n",
       "AGE           int64\n",
       "SEX          object\n",
       "REGION       object\n",
       "INCOME      float64\n",
       "MARRIED      object\n",
       "CHILDREN      int64\n",
       "CAR          object\n",
       "dtype: object"
      ]
     },
     "execution_count": 3,
     "metadata": {},
     "output_type": "execute_result"
    }
   ],
   "source": [
    "# Question 1: Find out data types\n",
    "df.dtypes"
   ]
  },
  {
   "cell_type": "markdown",
   "metadata": {},
   "source": [
    "integer columns: AGE, INCOME, CHILDREN"
   ]
  },
  {
   "cell_type": "markdown",
   "metadata": {},
   "source": [
    "### Basic statistics"
   ]
  },
  {
   "cell_type": "code",
   "execution_count": 4,
   "metadata": {},
   "outputs": [
    {
     "name": "stdout",
     "output_type": "stream",
     "text": [
      "Sex is bad for: \n",
      "ID          ID12702\n",
      "AGE              30\n",
      "SEX             NaN\n",
      "REGION        RURAL\n",
      "INCOME         9915\n",
      "MARRIED          NO\n",
      "CHILDREN          2\n",
      "CAR              NO\n",
      "Name: 1, dtype: object\n",
      "\n",
      "Income is bad for: \n",
      "ID          ID12704\n",
      "AGE              50\n",
      "SEX            MALE\n",
      "REGION         TOWN\n",
      "INCOME          NaN\n",
      "MARRIED         YES\n",
      "CHILDREN          2\n",
      "CAR              NO\n",
      "Name: 3, dtype: object\n",
      "\n",
      "Children is bad for: \n",
      "ID          ID12710\n",
      "AGE              57\n",
      "SEX          FEMALE\n",
      "REGION         TOWN\n",
      "INCOME        19621\n",
      "MARRIED         YES\n",
      "CHILDREN         99\n",
      "CAR             YES\n",
      "Name: 9, dtype: object\n",
      "\n",
      "Income is bad for: \n",
      "ID             ID12721\n",
      "AGE                 50\n",
      "SEX             FEMALE\n",
      "REGION      INNER_CITY\n",
      "INCOME           -1000\n",
      "MARRIED            Yes\n",
      "CHILDREN             2\n",
      "CAR                YES\n",
      "Name: 10, dtype: object\n",
      "\n",
      "Married is bad for: \n",
      "ID             ID12721\n",
      "AGE                 50\n",
      "SEX             FEMALE\n",
      "REGION      INNER_CITY\n",
      "INCOME           -1000\n",
      "MARRIED            Yes\n",
      "CHILDREN             2\n",
      "CAR                YES\n",
      "Name: 10, dtype: object\n",
      "\n",
      "Average data for later:\n",
      "Average number of children: 1\n",
      "There are more females than males or the two are equal\n"
     ]
    }
   ],
   "source": [
    "# Question 2: Find any data quality issues. Describe the data quality issues and suggest how to handle them\n",
    "totalChildren = 0\n",
    "totalPeopleForAvgChildren = 0\n",
    "totalMale = 0\n",
    "totalFemale = 0\n",
    "for index, row in df.iterrows():\n",
    "    #Checking if IDs are badly formatted\n",
    "    if row[\"ID\"][0:2] != \"ID\" or len(row[\"ID\"]) != 7:\n",
    "        print(\"ID is bad for: \\n\" + str(row) + \"\\n\")\n",
    "    #Checking if age is bad and/or unusual\n",
    "    if m.isnan(row[\"AGE\"]) or row[\"AGE\"] > 100 or row[\"AGE\"] < 0:\n",
    "        print(\"Age is bad for: \\n\" + str(row) + \"\\n\")\n",
    "    #Checking if sex is bad\n",
    "    if row[\"SEX\"] not in [\"MALE\",\"FEMALE\"]:\n",
    "        print(\"Sex is bad for: \\n\" + str(row) + \"\\n\")\n",
    "    #Get the total men and women for setting unknown later\n",
    "    elif row[\"SEX\"] == \"MALE\":\n",
    "        totalMale = totalMale + 1\n",
    "    else:\n",
    "        totalFemale = totalFemale + 1\n",
    "    #Checking if region is bad\n",
    "    if row[\"REGION\"] not in [\"INNER_CITY\",\"RURAL\",\"TOWN\"]:\n",
    "        print(\"Region is bad for: \\n\" + str(row) + \"\\n\")\n",
    "    #Checking if income is bad\n",
    "    if m.isnan(row[\"INCOME\"]) or row[\"INCOME\"] < 0 or row[\"INCOME\"] > 200000000000:\n",
    "        print(\"Income is bad for: \\n\" + str(row) + \"\\n\")\n",
    "    #Checking if married is bad\n",
    "    if row[\"MARRIED\"] not in [\"YES\",\"NO\"]:\n",
    "        print(\"Married is bad for: \\n\" + str(row) + \"\\n\")\n",
    "    #Checking if children is bad and/or unusual\n",
    "    if m.isnan(row[\"CHILDREN\"]) or row[\"CHILDREN\"] > 10 or row[\"CHILDREN\"] < 0:\n",
    "        print(\"Children is bad for: \\n\" + str(row) + \"\\n\")\n",
    "    #Get the total children for average late\n",
    "    else:\n",
    "        totalChildren = totalChildren + row[\"CHILDREN\"]\n",
    "        totalPeopleForAvgChildren = totalPeopleForAvgChildren + 1\n",
    "    #Checking if car is bad\n",
    "    if row[\"CAR\"] not in [\"YES\",\"NO\"]:\n",
    "        print(\"Car is bad for: \\n\" + str(row) + \"\\n\")\n",
    "avgChildren = totalChildren / totalPeopleForAvgChildren\n",
    "avgChildren = int(avgChildren)\n",
    "print(\"Average data for later:\")\n",
    "print(\"Average number of children: \" + str(avgChildren))\n",
    "if totalMale > totalFemale:\n",
    "    print(\"There are more males than females\")\n",
    "else:\n",
    "    print(\"There are more females than males or the two are equal\")"
   ]
  },
  {
   "cell_type": "markdown",
   "metadata": {},
   "source": [
    "#### There are a few things that are wrong with the data that was provided:\n",
    "1. ID12702 does not have a sex\n",
    "1. ID12704 has no income\n",
    "1. ID12710 has 99 children\n",
    "1. ID12721 has a negative income\n",
    "1. ID12721's value for married is not in all caps like the rest"
   ]
  },
  {
   "cell_type": "code",
   "execution_count": 5,
   "metadata": {},
   "outputs": [],
   "source": [
    "# Question 3: Handle inconsistent data and missing values\n",
    "for index, row in df.iterrows():\n",
    "    #If sex is bad, set to more popular out of male and female\n",
    "    if row[\"SEX\"] not in [\"MALE\",\"FEMALE\"]:\n",
    "        if totalMale > totalFemale:\n",
    "            df.at[index,\"SEX\"] = \"MALE\"\n",
    "        else:\n",
    "            df.at[index,\"SEX\"] = \"FEMALE\"\n",
    "    #If income is negative, NaN or larger than any person, set to zero\n",
    "    if m.isnan(row[\"INCOME\"]) or row[\"INCOME\"] < 0 or row[\"INCOME\"] > 200000000000:\n",
    "        df.at[index,\"INCOME\"] = 0\n",
    "    #If married is not capitalized, capitalize it\n",
    "    if row[\"MARRIED\"] in [\"Yes\",\"No\"]:\n",
    "        df.at[index,\"MARRIED\"] = row[\"MARRIED\"].upper()\n",
    "    #If children is bad or unusual, set to null\n",
    "    if row[\"CHILDREN\"] > 10 or row[\"CHILDREN\"] < 0:\n",
    "        df.at[index,\"CHILDREN\"] = avgChildren"
   ]
  },
  {
   "cell_type": "markdown",
   "metadata": {
    "collapsed": true
   },
   "source": [
    "#### Question 4: Replace negative numbers (e.g., minus income) by zero\n",
    "This was handled in the previous question"
   ]
  },
  {
   "cell_type": "code",
   "execution_count": 6,
   "metadata": {},
   "outputs": [
    {
     "data": {
      "text/html": [
       "<div>\n",
       "<style scoped>\n",
       "    .dataframe tbody tr th:only-of-type {\n",
       "        vertical-align: middle;\n",
       "    }\n",
       "\n",
       "    .dataframe tbody tr th {\n",
       "        vertical-align: top;\n",
       "    }\n",
       "\n",
       "    .dataframe thead th {\n",
       "        text-align: right;\n",
       "    }\n",
       "</style>\n",
       "<table border=\"1\" class=\"dataframe\">\n",
       "  <thead>\n",
       "    <tr style=\"text-align: right;\">\n",
       "      <th></th>\n",
       "      <th>ID</th>\n",
       "      <th>AGE</th>\n",
       "      <th>SEX</th>\n",
       "      <th>REGION</th>\n",
       "      <th>INCOME</th>\n",
       "      <th>MARRIED</th>\n",
       "      <th>CHILDREN</th>\n",
       "      <th>CAR</th>\n",
       "    </tr>\n",
       "  </thead>\n",
       "  <tbody>\n",
       "    <tr>\n",
       "      <th>2</th>\n",
       "      <td>ID12703</td>\n",
       "      <td>45</td>\n",
       "      <td>MALE</td>\n",
       "      <td>RURAL</td>\n",
       "      <td>21881.0</td>\n",
       "      <td>NO</td>\n",
       "      <td>0</td>\n",
       "      <td>YES</td>\n",
       "    </tr>\n",
       "    <tr>\n",
       "      <th>4</th>\n",
       "      <td>ID12705</td>\n",
       "      <td>41</td>\n",
       "      <td>FEMALE</td>\n",
       "      <td>INNER_CITY</td>\n",
       "      <td>80000.0</td>\n",
       "      <td>YES</td>\n",
       "      <td>0</td>\n",
       "      <td>NO</td>\n",
       "    </tr>\n",
       "    <tr>\n",
       "      <th>6</th>\n",
       "      <td>ID12707</td>\n",
       "      <td>46</td>\n",
       "      <td>FEMALE</td>\n",
       "      <td>RURAL</td>\n",
       "      <td>39068.0</td>\n",
       "      <td>YES</td>\n",
       "      <td>0</td>\n",
       "      <td>YES</td>\n",
       "    </tr>\n",
       "    <tr>\n",
       "      <th>7</th>\n",
       "      <td>ID12708</td>\n",
       "      <td>50</td>\n",
       "      <td>FEMALE</td>\n",
       "      <td>INNER_CITY</td>\n",
       "      <td>27740.0</td>\n",
       "      <td>YES</td>\n",
       "      <td>1</td>\n",
       "      <td>YES</td>\n",
       "    </tr>\n",
       "    <tr>\n",
       "      <th>8</th>\n",
       "      <td>ID12709</td>\n",
       "      <td>42</td>\n",
       "      <td>MALE</td>\n",
       "      <td>INNER_CITY</td>\n",
       "      <td>33584.0</td>\n",
       "      <td>NO</td>\n",
       "      <td>3</td>\n",
       "      <td>YES</td>\n",
       "    </tr>\n",
       "  </tbody>\n",
       "</table>\n",
       "</div>"
      ],
      "text/plain": [
       "        ID  AGE     SEX      REGION   INCOME MARRIED  CHILDREN  CAR\n",
       "2  ID12703   45    MALE       RURAL  21881.0      NO         0  YES\n",
       "4  ID12705   41  FEMALE  INNER_CITY  80000.0     YES         0   NO\n",
       "6  ID12707   46  FEMALE       RURAL  39068.0     YES         0  YES\n",
       "7  ID12708   50  FEMALE  INNER_CITY  27740.0     YES         1  YES\n",
       "8  ID12709   42    MALE  INNER_CITY  33584.0      NO         3  YES"
      ]
     },
     "execution_count": 6,
     "metadata": {},
     "output_type": "execute_result"
    }
   ],
   "source": [
    "# Question 5: Filter rows using a criterion. Please define criterion by yourself\n",
    "#Filtering to only grab people with income of at least 20000\n",
    "df_20k = df[(df['INCOME'] >= 20000.0)]\n",
    "df_20k"
   ]
  },
  {
   "cell_type": "code",
   "execution_count": 7,
   "metadata": {},
   "outputs": [],
   "source": [
    "# Question 6: Export the final data to csv or excel.\n",
    "df_20k.to_csv('sample.csv')"
   ]
  },
  {
   "cell_type": "code",
   "execution_count": 8,
   "metadata": {},
   "outputs": [],
   "source": [
    "# Question 7: Import both datasets customer.xls and order.xls\n",
    "# (the goal is to master data integration techniques using join)\n",
    "customer = pd.read_excel('customer.xls')\n",
    "order = pd.read_excel('order.xls')"
   ]
  },
  {
   "cell_type": "code",
   "execution_count": 9,
   "metadata": {},
   "outputs": [
    {
     "name": "stdout",
     "output_type": "stream",
     "text": [
      "   CustomerID FirstName  LastName                  Email        DOB  \\\n",
      "0           1      John     Smith   John.Smith@yahoo.com 1968-02-04   \n",
      "1           2    Steven  Goldfish  goldfish@fishhere.net 1974-04-04   \n",
      "2           3     Paula     Brown    pb@herowndomain.org 1978-05-24   \n",
      "3           4     James     Smith     jim@supergig.co.uk 1980-02-10   \n",
      "\n",
      "          Phone  \n",
      "0  626 222-2222  \n",
      "1  323 455-4545  \n",
      "2  416 323-3232  \n",
      "3  416 323-8888  \n",
      "   CustomerID  Order_Id  OrderNo\n",
      "0           3         1    77895\n",
      "1           3         2    44678\n",
      "2           1         3    22456\n",
      "3           1         4    24562\n",
      "4          15         5    34764\n"
     ]
    }
   ],
   "source": [
    "# Question 8: Identify the primary (or common) key for joining\n",
    "print(customer)\n",
    "print(order)"
   ]
  },
  {
   "cell_type": "markdown",
   "metadata": {},
   "source": [
    "#### It looks like CustomerID is the primary key for joining"
   ]
  },
  {
   "cell_type": "code",
   "execution_count": 10,
   "metadata": {},
   "outputs": [
    {
     "name": "stdout",
     "output_type": "stream",
     "text": [
      "   CustomerID FirstName LastName                 Email        DOB  \\\n",
      "0           1      John    Smith  John.Smith@yahoo.com 1968-02-04   \n",
      "1           1      John    Smith  John.Smith@yahoo.com 1968-02-04   \n",
      "2           3     Paula    Brown   pb@herowndomain.org 1978-05-24   \n",
      "3           3     Paula    Brown   pb@herowndomain.org 1978-05-24   \n",
      "\n",
      "          Phone  Order_Id  OrderNo  \n",
      "0  626 222-2222         3    22456  \n",
      "1  626 222-2222         4    24562  \n",
      "2  416 323-3232         1    77895  \n",
      "3  416 323-3232         2    44678  \n",
      "   CustomerID FirstName  LastName                  Email        DOB  \\\n",
      "0           1      John     Smith   John.Smith@yahoo.com 1968-02-04   \n",
      "1           1      John     Smith   John.Smith@yahoo.com 1968-02-04   \n",
      "2           2    Steven  Goldfish  goldfish@fishhere.net 1974-04-04   \n",
      "3           3     Paula     Brown    pb@herowndomain.org 1978-05-24   \n",
      "4           3     Paula     Brown    pb@herowndomain.org 1978-05-24   \n",
      "5           4     James     Smith     jim@supergig.co.uk 1980-02-10   \n",
      "\n",
      "          Phone  Order_Id  OrderNo  \n",
      "0  626 222-2222       3.0  22456.0  \n",
      "1  626 222-2222       4.0  24562.0  \n",
      "2  323 455-4545       NaN      NaN  \n",
      "3  416 323-3232       1.0  77895.0  \n",
      "4  416 323-3232       2.0  44678.0  \n",
      "5  416 323-8888       NaN      NaN  \n",
      "   CustomerID FirstName LastName                 Email        DOB  \\\n",
      "0           1      John    Smith  John.Smith@yahoo.com 1968-02-04   \n",
      "1           1      John    Smith  John.Smith@yahoo.com 1968-02-04   \n",
      "2           3     Paula    Brown   pb@herowndomain.org 1978-05-24   \n",
      "3           3     Paula    Brown   pb@herowndomain.org 1978-05-24   \n",
      "4          15       NaN      NaN                   NaN        NaT   \n",
      "\n",
      "          Phone  Order_Id  OrderNo  \n",
      "0  626 222-2222         3    22456  \n",
      "1  626 222-2222         4    24562  \n",
      "2  416 323-3232         1    77895  \n",
      "3  416 323-3232         2    44678  \n",
      "4           NaN         5    34764  \n"
     ]
    }
   ],
   "source": [
    "# Question 9: Perform inner join, left join, and right join. Discuss the results of the three types of join\n",
    "inner = customer.merge(order, on='CustomerID', how='inner')\n",
    "left = customer.merge(order, on='CustomerID', how='left')\n",
    "right = customer.merge(order, on='CustomerID', how='right')\n",
    "print(inner)\n",
    "print(left)\n",
    "print(right)"
   ]
  },
  {
   "cell_type": "markdown",
   "metadata": {},
   "source": [
    "#### The inner join only retains the records that match in the two tables, so customers with IDs 2, 4 and 15 are dropped\n",
    "#### The left join retains the records that exist in the left table, in this case the customer table, so we get IDs 1 through 4\n",
    "#### The right join retains the records that exist in the right table, in this case the order table, so we get IDs 1, 3 and 15\n",
    "#### For the left and right joins, any unknown values due to non-existence in the other table get the value NaN"
   ]
  }
 ],
 "metadata": {
  "kernelspec": {
   "display_name": "Python 3",
   "language": "python",
   "name": "python3"
  },
  "language_info": {
   "codemirror_mode": {
    "name": "ipython",
    "version": 3
   },
   "file_extension": ".py",
   "mimetype": "text/x-python",
   "name": "python",
   "nbconvert_exporter": "python",
   "pygments_lexer": "ipython3",
   "version": "3.6.4"
  }
 },
 "nbformat": 4,
 "nbformat_minor": 1
}
