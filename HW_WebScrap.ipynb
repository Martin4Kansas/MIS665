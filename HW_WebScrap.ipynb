{
 "cells": [
  {
   "cell_type": "markdown",
   "metadata": {},
   "source": [
    "## Honor Code\n",
    "**Jordan Martin  \n",
    "K-State Honor Code  \n",
    "\"On my honor, as a student, I have neither given nor received unauthorized aid on this academic work.\"**  "
   ]
  },
  {
   "cell_type": "code",
   "execution_count": 1,
   "metadata": {},
   "outputs": [],
   "source": [
    "# import packages\n",
    "import requests\n",
    "from lxml import html\n",
    "import csv\n",
    "import pandas as pd"
   ]
  },
  {
   "cell_type": "code",
   "execution_count": 2,
   "metadata": {},
   "outputs": [],
   "source": [
    "# request the web page\n",
    "r = requests.get('http://www.pro-football-reference.com/years/2017/draft.htm')\n",
    "data = html.fromstring(r.text)"
   ]
  },
  {
   "cell_type": "markdown",
   "metadata": {},
   "source": [
    "## 1. Collect the data (e.g., pick, player)"
   ]
  },
  {
   "cell_type": "code",
   "execution_count": 3,
   "metadata": {},
   "outputs": [],
   "source": [
    "# Question 1: \n",
    "# You need to collect the following data: pick, player, pos (position), age, G (games\n",
    "# played), Cmp (passes completed), Att (passes attempted), and college. The collected data\n",
    "# should be converted to a data frame (Excel-like format). Therefore, the final dataset\n",
    "# should contain eight columns.\n",
    "# Gathering each of the column data from the appropriate location in the html\n",
    "table = pd.DataFrame(list(zip(data.xpath(\"//td[@data-stat='draft_pick']/text()\"),\n",
    "                 data.xpath(\"//td[@data-stat='player']/strong/a/text()\"),\n",
    "                 data.xpath(\"//td[@data-stat='pos']/text()\"),\n",
    "                 data.xpath(\"//td[@data-stat='age']/text()\"),\n",
    "                 data.xpath(\"//td[@data-stat='g']/text()\"),\n",
    "                 data.xpath(\"//td[@data-stat='pass_cmp']/text()\"),\n",
    "                 data.xpath(\"//td[@data-stat='pass_att']/text()\"),\n",
    "                 data.xpath(\"//td[@data-stat='college_id']/a/text()\"))))"
   ]
  },
  {
   "cell_type": "markdown",
   "metadata": {},
   "source": [
    "## 2. Rename the column names (e.g., 0 to Pick, 1 to Player)"
   ]
  },
  {
   "cell_type": "code",
   "execution_count": 4,
   "metadata": {},
   "outputs": [],
   "source": [
    "# Question 2: Rename the column names (e.g., 0 to Pick, 1 to Player)\n",
    "# Renaming columns appropriately\n",
    "table.columns = ['Pick','Player','Pos','Age','G','Cmp','Att','College']"
   ]
  },
  {
   "cell_type": "code",
   "execution_count": 5,
   "metadata": {},
   "outputs": [
    {
     "data": {
      "text/plain": [
       "Pick       object\n",
       "Player     object\n",
       "Pos        object\n",
       "Age        object\n",
       "G          object\n",
       "Cmp        object\n",
       "Att        object\n",
       "College    object\n",
       "dtype: object"
      ]
     },
     "execution_count": 5,
     "metadata": {},
     "output_type": "execute_result"
    }
   ],
   "source": [
    "# Question 3: Check the data types. You will find out that all columns are object or string.\n",
    "# Displaying the type of each column\n",
    "table.dtypes"
   ]
  },
  {
   "cell_type": "code",
   "execution_count": 6,
   "metadata": {},
   "outputs": [],
   "source": [
    "# Question 4: Convert three columns (G, Cmp, and Att) to numbers.\n",
    "# Converting games, completions and attempts to numeric values\n",
    "table['G'] = pd.to_numeric(table['G'])\n",
    "table['Cmp'] = pd.to_numeric(table['Cmp'])\n",
    "table['Att'] = pd.to_numeric(table['Att'])"
   ]
  },
  {
   "cell_type": "code",
   "execution_count": 7,
   "metadata": {},
   "outputs": [],
   "source": [
    "# Question 5: Calculate a new column (“PassCompletionRate”) = Cmp /Att\n",
    "# Creating a new column that is the pass completion rate\n",
    "table['PassCompletionRate'] = table['Cmp']/table['Att']"
   ]
  },
  {
   "cell_type": "code",
   "execution_count": 8,
   "metadata": {},
   "outputs": [
    {
     "data": {
      "text/html": [
       "<div>\n",
       "<style scoped>\n",
       "    .dataframe tbody tr th:only-of-type {\n",
       "        vertical-align: middle;\n",
       "    }\n",
       "\n",
       "    .dataframe tbody tr th {\n",
       "        vertical-align: top;\n",
       "    }\n",
       "\n",
       "    .dataframe thead th {\n",
       "        text-align: right;\n",
       "    }\n",
       "</style>\n",
       "<table border=\"1\" class=\"dataframe\">\n",
       "  <thead>\n",
       "    <tr style=\"text-align: right;\">\n",
       "      <th></th>\n",
       "      <th>Pick</th>\n",
       "      <th>Player</th>\n",
       "      <th>Pos</th>\n",
       "      <th>Age</th>\n",
       "      <th>G</th>\n",
       "      <th>Cmp</th>\n",
       "      <th>Att</th>\n",
       "      <th>College</th>\n",
       "      <th>PassCompletionRate</th>\n",
       "    </tr>\n",
       "  </thead>\n",
       "  <tbody>\n",
       "    <tr>\n",
       "      <th>62</th>\n",
       "      <td>63</td>\n",
       "      <td>Ahkello Witherspoon</td>\n",
       "      <td>G</td>\n",
       "      <td>23</td>\n",
       "      <td>34</td>\n",
       "      <td>0</td>\n",
       "      <td>0</td>\n",
       "      <td>Temple</td>\n",
       "      <td>NaN</td>\n",
       "    </tr>\n",
       "    <tr>\n",
       "      <th>7</th>\n",
       "      <td>8</td>\n",
       "      <td>Christian McCaffrey</td>\n",
       "      <td>RB</td>\n",
       "      <td>21</td>\n",
       "      <td>34</td>\n",
       "      <td>1</td>\n",
       "      <td>1</td>\n",
       "      <td>Stanford</td>\n",
       "      <td>1.0</td>\n",
       "    </tr>\n",
       "    <tr>\n",
       "      <th>81</th>\n",
       "      <td>82</td>\n",
       "      <td>Davis Webb</td>\n",
       "      <td>WR</td>\n",
       "      <td>22</td>\n",
       "      <td>34</td>\n",
       "      <td>0</td>\n",
       "      <td>0</td>\n",
       "      <td>Louisiana Tech</td>\n",
       "      <td>NaN</td>\n",
       "    </tr>\n",
       "    <tr>\n",
       "      <th>117</th>\n",
       "      <td>118</td>\n",
       "      <td>David Sharpe</td>\n",
       "      <td>WR</td>\n",
       "      <td>23</td>\n",
       "      <td>33</td>\n",
       "      <td>0</td>\n",
       "      <td>0</td>\n",
       "      <td>North Carolina</td>\n",
       "      <td>NaN</td>\n",
       "    </tr>\n",
       "    <tr>\n",
       "      <th>123</th>\n",
       "      <td>124</td>\n",
       "      <td>Zach Banner</td>\n",
       "      <td>LB</td>\n",
       "      <td>22</td>\n",
       "      <td>33</td>\n",
       "      <td>0</td>\n",
       "      <td>0</td>\n",
       "      <td>Tennessee</td>\n",
       "      <td>NaN</td>\n",
       "    </tr>\n",
       "  </tbody>\n",
       "</table>\n",
       "</div>"
      ],
      "text/plain": [
       "    Pick               Player Pos Age   G  Cmp  Att         College  \\\n",
       "62    63  Ahkello Witherspoon   G  23  34    0    0          Temple   \n",
       "7      8  Christian McCaffrey  RB  21  34    1    1        Stanford   \n",
       "81    82           Davis Webb  WR  22  34    0    0  Louisiana Tech   \n",
       "117  118         David Sharpe  WR  23  33    0    0  North Carolina   \n",
       "123  124          Zach Banner  LB  22  33    0    0       Tennessee   \n",
       "\n",
       "     PassCompletionRate  \n",
       "62                  NaN  \n",
       "7                   1.0  \n",
       "81                  NaN  \n",
       "117                 NaN  \n",
       "123                 NaN  "
      ]
     },
     "execution_count": 8,
     "metadata": {},
     "output_type": "execute_result"
    }
   ],
   "source": [
    "# Question 6: Find out the top five players in terms of games played\n",
    "# Hint: df.head(5) displays five rows; df.head(10) displays ten rows\n",
    "# Sorting the table by games and displaying the top 5\n",
    "table.sort_values('G', ascending=False).head(5)"
   ]
  },
  {
   "cell_type": "code",
   "execution_count": 9,
   "metadata": {},
   "outputs": [
    {
     "data": {
      "text/html": [
       "<div>\n",
       "<style scoped>\n",
       "    .dataframe tbody tr th:only-of-type {\n",
       "        vertical-align: middle;\n",
       "    }\n",
       "\n",
       "    .dataframe tbody tr th {\n",
       "        vertical-align: top;\n",
       "    }\n",
       "\n",
       "    .dataframe thead th {\n",
       "        text-align: right;\n",
       "    }\n",
       "</style>\n",
       "<table border=\"1\" class=\"dataframe\">\n",
       "  <thead>\n",
       "    <tr style=\"text-align: right;\">\n",
       "      <th></th>\n",
       "      <th>NumberOfPlayers</th>\n",
       "    </tr>\n",
       "    <tr>\n",
       "      <th>College</th>\n",
       "      <th></th>\n",
       "    </tr>\n",
       "  </thead>\n",
       "  <tbody>\n",
       "    <tr>\n",
       "      <th>Michigan</th>\n",
       "      <td>11</td>\n",
       "    </tr>\n",
       "    <tr>\n",
       "      <th>Alabama</th>\n",
       "      <td>10</td>\n",
       "    </tr>\n",
       "    <tr>\n",
       "      <th>Utah</th>\n",
       "      <td>8</td>\n",
       "    </tr>\n",
       "    <tr>\n",
       "      <th>LSU</th>\n",
       "      <td>7</td>\n",
       "    </tr>\n",
       "    <tr>\n",
       "      <th>Florida</th>\n",
       "      <td>7</td>\n",
       "    </tr>\n",
       "    <tr>\n",
       "      <th>Clemson</th>\n",
       "      <td>6</td>\n",
       "    </tr>\n",
       "    <tr>\n",
       "      <th>Ohio St.</th>\n",
       "      <td>6</td>\n",
       "    </tr>\n",
       "    <tr>\n",
       "      <th>Tennessee</th>\n",
       "      <td>6</td>\n",
       "    </tr>\n",
       "    <tr>\n",
       "      <th>North Carolina</th>\n",
       "      <td>5</td>\n",
       "    </tr>\n",
       "    <tr>\n",
       "      <th>Texas A&amp;M</th>\n",
       "      <td>5</td>\n",
       "    </tr>\n",
       "  </tbody>\n",
       "</table>\n",
       "</div>"
      ],
      "text/plain": [
       "                NumberOfPlayers\n",
       "College                        \n",
       "Michigan                     11\n",
       "Alabama                      10\n",
       "Utah                          8\n",
       "LSU                           7\n",
       "Florida                       7\n",
       "Clemson                       6\n",
       "Ohio St.                      6\n",
       "Tennessee                     6\n",
       "North Carolina                5\n",
       "Texas A&M                     5"
      ]
     },
     "execution_count": 9,
     "metadata": {},
     "output_type": "execute_result"
    }
   ],
   "source": [
    "# Question 7: Find out the top ten schools in terms of the number of players drafted\n",
    "# Grouping the players by college, finding only the top 10, then dropping the irrelevant columns,\n",
    "# renaming Player to NumberOfPlayers appropriately, and then displaying the data\n",
    "schools = table.groupby('College').count().sort_values('Player', ascending=False).head(10)\\\n",
    ".drop(['Pick','Pos','Age','G','Cmp','Att','PassCompletionRate'], axis=1)\n",
    "schools.rename(columns={'Player':'NumberOfPlayers'}, inplace=True)\n",
    "schools"
   ]
  },
  {
   "cell_type": "code",
   "execution_count": 10,
   "metadata": {},
   "outputs": [
    {
     "data": {
      "text/html": [
       "<div>\n",
       "<style scoped>\n",
       "    .dataframe tbody tr th:only-of-type {\n",
       "        vertical-align: middle;\n",
       "    }\n",
       "\n",
       "    .dataframe tbody tr th {\n",
       "        vertical-align: top;\n",
       "    }\n",
       "\n",
       "    .dataframe thead th {\n",
       "        text-align: right;\n",
       "    }\n",
       "</style>\n",
       "<table border=\"1\" class=\"dataframe\">\n",
       "  <thead>\n",
       "    <tr style=\"text-align: right;\">\n",
       "      <th></th>\n",
       "      <th>NumberOfPlayers</th>\n",
       "    </tr>\n",
       "    <tr>\n",
       "      <th>Pos</th>\n",
       "      <th></th>\n",
       "    </tr>\n",
       "  </thead>\n",
       "  <tbody>\n",
       "    <tr>\n",
       "      <th>WR</th>\n",
       "      <td>27</td>\n",
       "    </tr>\n",
       "    <tr>\n",
       "      <th>CB</th>\n",
       "      <td>24</td>\n",
       "    </tr>\n",
       "    <tr>\n",
       "      <th>RB</th>\n",
       "      <td>22</td>\n",
       "    </tr>\n",
       "    <tr>\n",
       "      <th>S</th>\n",
       "      <td>21</td>\n",
       "    </tr>\n",
       "    <tr>\n",
       "      <th>DE</th>\n",
       "      <td>17</td>\n",
       "    </tr>\n",
       "  </tbody>\n",
       "</table>\n",
       "</div>"
      ],
      "text/plain": [
       "     NumberOfPlayers\n",
       "Pos                 \n",
       "WR                27\n",
       "CB                24\n",
       "RB                22\n",
       "S                 21\n",
       "DE                17"
      ]
     },
     "execution_count": 10,
     "metadata": {},
     "output_type": "execute_result"
    }
   ],
   "source": [
    "# Question 8: Develop your own question and provide an answer \n",
    "# Find the top five positions in terms of the number of players\n",
    "# Grouping the players by position, finding the top 5, then dropping the irrelevant columns,\n",
    "# renaming Player to NumberOfPlayers appropriately, and then displaying\n",
    "positions = table.groupby('Pos').count().sort_values('Player', ascending=False).head(5)\\\n",
    ".drop(['Pick','Age','G','Cmp','Att','College','PassCompletionRate'], axis=1)\n",
    "positions.rename(columns={'Player':'NumberOfPlayers'}, inplace=True)\n",
    "positions"
   ]
  }
 ],
 "metadata": {
  "hide_input": false,
  "kernelspec": {
   "display_name": "Python 3",
   "language": "python",
   "name": "python3"
  },
  "language_info": {
   "codemirror_mode": {
    "name": "ipython",
    "version": 3
   },
   "file_extension": ".py",
   "mimetype": "text/x-python",
   "name": "python",
   "nbconvert_exporter": "python",
   "pygments_lexer": "ipython3",
   "version": "3.6.4"
  },
  "toc": {
   "base_numbering": 1,
   "nav_menu": {},
   "number_sections": true,
   "sideBar": true,
   "skip_h1_title": false,
   "title_cell": "Table of Contents",
   "title_sidebar": "Contents",
   "toc_cell": false,
   "toc_position": {},
   "toc_section_display": true,
   "toc_window_display": false
  },
  "varInspector": {
   "cols": {
    "lenName": 16,
    "lenType": 16,
    "lenVar": 40
   },
   "kernels_config": {
    "python": {
     "delete_cmd_postfix": "",
     "delete_cmd_prefix": "del ",
     "library": "var_list.py",
     "varRefreshCmd": "print(var_dic_list())"
    },
    "r": {
     "delete_cmd_postfix": ") ",
     "delete_cmd_prefix": "rm(",
     "library": "var_list.r",
     "varRefreshCmd": "cat(var_dic_list()) "
    }
   },
   "types_to_exclude": [
    "module",
    "function",
    "builtin_function_or_method",
    "instance",
    "_Feature"
   ],
   "window_display": false
  }
 },
 "nbformat": 4,
 "nbformat_minor": 1
}
